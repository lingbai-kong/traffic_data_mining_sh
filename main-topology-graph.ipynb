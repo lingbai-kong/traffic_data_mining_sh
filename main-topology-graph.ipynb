{
 "cells": [
  {
   "cell_type": "markdown",
   "id": "db89c196",
   "metadata": {},
   "source": [
    "# 数据读取\n",
    "读取csv数据，初次得到的数据结构如下：\n",
    "```\n",
    "data=\n",
    "[\n",
    "    {\n",
    "        'date',\n",
    "        'time',\n",
    "        'data':[\n",
    "            第road_id行，存放road_id的数据：[status,speed]\n",
    "        ]\n",
    "        不同时间的不同data不等长\n",
    "    }\n",
    "]\n",
    "```"
   ]
  },
  {
   "cell_type": "code",
   "execution_count": 3,
   "id": "7c021a6a",
   "metadata": {
    "scrolled": true
   },
   "outputs": [],
   "source": [
    "import csv\n",
    "import os\n",
    "file_path='data'\n",
    "file_list=sorted(os.listdir(file_path))\n",
    "date_time={}\n",
    "for fname in file_list:\n",
    "    if fname[0]=='.':\n",
    "        continue\n",
    "        \n",
    "    date=fname[8:13]\n",
    "    time=fname[14:22]\n",
    "    \n",
    "    if date>='10-02' and date<='10-31':\n",
    "        if date not in date_time:\n",
    "            date_time[date]=[time]\n",
    "        else:\n",
    "            date_time[date].append(time)\n",
    "#把每一天的时间段数据归一化，抛弃尾端数据\n",
    "min_time_num=216\n",
    "for date,times in date_time.items():\n",
    "    if len(times)<min_time_num:\n",
    "        min_time_num=len(times)\n",
    "for date in date_time:\n",
    "    if len(date_time[date])>min_time_num:\n",
    "        date_time[date]=date_time[date][0:min_time_num]\n",
    "\n",
    "road_dict={}\n",
    "data=[]\n",
    "\n",
    "for date,times in date_time.items():\n",
    "    for time in times:\n",
    "        fname='ts_2021-'+date+' '+time+'.csv'\n",
    "        date_data=[[0,0] for i in range(len(road_dict))]\n",
    "        with open(file_path+'/'+fname,'r') as f:\n",
    "            csv_reader = csv.reader(f)\n",
    "            for row in csv_reader:\n",
    "                if (row[0],row[2]) in road_dict:\n",
    "                    date_data[road_dict[(row[0],row[2])]['id']][0]=int(row[1])\n",
    "                    date_data[road_dict[(row[0],row[2])]['id']][1]=int(row[4])\n",
    "                else:\n",
    "                    road_dict[(row[0],row[2])]={'id':len(road_dict)}\n",
    "                    date_data.append([int(row[1]),int(row[4])])\n",
    "            f.close()\n",
    "        #time=(int(fname[14:16])-5)*60+int(fname[17:19])\n",
    "        data.append({'date':date,'time':time,'data':date_data})"
   ]
  },
  {
   "cell_type": "markdown",
   "id": "3830bc35",
   "metadata": {},
   "source": [
    "读取拓扑图数据"
   ]
  },
  {
   "cell_type": "code",
   "execution_count": 4,
   "id": "79c0b514",
   "metadata": {},
   "outputs": [],
   "source": [
    "import pickle\n",
    "orthogonal_list={}\n",
    "pointers={}\n",
    "node_dict={}\n",
    "node_dict_amap={}\n",
    "way_list=[]\n",
    "with open('map_nodes.pkl','rb') as f:\n",
    "    node_dict=pickle.load(f)\n",
    "with open('map_nodes_amap.pkl','rb') as f:\n",
    "    node_dict_amap=pickle.load(f)\n",
    "with open('graph_orthogonal_list.pkl','rb') as f:\n",
    "    orthogonal_list=pickle.load(f)\n",
    "with open('graph_pointers.pkl','rb') as f:\n",
    "    pointers=pickle.load(f)\n",
    "with open('map_ways.pkl','rb') as f:\n",
    "    way_list=pickle.load(f)"
   ]
  },
  {
   "cell_type": "markdown",
   "id": "15e97a53",
   "metadata": {},
   "source": [
    "# 数据清洗\n",
    "二次处理读到的csv数据，使其转化为光栅(Raster)数据\n",
    "```\n",
    "dataset=[\n",
    "    for each day\n",
    "    [\n",
    "        for each roads\n",
    "        [\n",
    "            for each time\n",
    "            [\n",
    "                [status,speed]\n",
    "            ]\n",
    "        ]\n",
    "    ]\n",
    "]\n",
    "```\n",
    "记每天为一个样本组，天数=样本数=N，每个样本记录了E个道路信息，每个道路包含T个时间片的监测数据，每个数据有C个特征"
   ]
  },
  {
   "cell_type": "code",
   "execution_count": 5,
   "id": "5c49eb04",
   "metadata": {},
   "outputs": [],
   "source": [
    "import numpy as np\n",
    "from collections import Counter\n",
    "dataset=[]\n",
    "raster=[[] for i in range(len(road_dict))]\n",
    "for index,item in enumerate(data):\n",
    "    for road in road_dict:\n",
    "        road_id=road_dict[(road)]['id']\n",
    "        if road_id<len(item['data']):\n",
    "            raster[road_id].append(item['data'][road_id])\n",
    "        else:\n",
    "            raster[road_id].append([0,0])\n",
    "\n",
    "    if index==len(data)-1 or item['date']!=data[index+1]['date']:\n",
    "        dataset.append(raster)\n",
    "        raster=[[] for i in range(len(road_dict))]\n",
    "\n",
    "dataset=np.array(dataset)"
   ]
  },
  {
   "cell_type": "markdown",
   "id": "d94bd9de",
   "metadata": {},
   "source": [
    "将每一天的数据拼接\n",
    "```\n",
    "dataset=[\n",
    "    for each roads\n",
    "    [\n",
    "        for all time\n",
    "        [\n",
    "            [status,speed]\n",
    "        ]\n",
    "    ]\n",
    "]\n",
    "```\n",
    "样本记录了E个道路信息，每个道路包含N*T个时间片的监测数据，每个数据有C个特征"
   ]
  },
  {
   "cell_type": "code",
   "execution_count": 6,
   "id": "5c6d984f",
   "metadata": {},
   "outputs": [],
   "source": [
    "dataset=np.concatenate(dataset,axis=1)"
   ]
  },
  {
   "cell_type": "markdown",
   "id": "ae76b3df",
   "metadata": {},
   "source": [
    "将数据缺失率在5%以上的路段剔除<br>\n",
    "road_zip是之后代码块使用的数据源"
   ]
  },
  {
   "cell_type": "code",
   "execution_count": 7,
   "id": "700a8716",
   "metadata": {},
   "outputs": [],
   "source": [
    "road_zip=dict(zip(road_dict.keys(), dataset))\n",
    "delete_roads=[]\n",
    "for road,data in road_zip.items():\n",
    "    null_cnt=0\n",
    "    zero_cnt=Counter(data[:,0])[0]\n",
    "    if zero_cnt>len(data)*0.05:\n",
    "        delete_roads.append(road)\n",
    "for road in delete_roads:\n",
    "    road_zip.pop(road)"
   ]
  },
  {
   "cell_type": "markdown",
   "id": "bd5b75b6",
   "metadata": {},
   "source": [
    "绘制光栅图"
   ]
  },
  {
   "cell_type": "code",
   "execution_count": 8,
   "id": "bd941d3f",
   "metadata": {
    "scrolled": true
   },
   "outputs": [
    {
     "name": "stdout",
     "output_type": "stream",
     "text": [
      "(1029, 6090, 2)\n"
     ]
    },
    {
     "data": {
      "text/plain": [
       "True"
      ]
     },
     "execution_count": 8,
     "metadata": {},
     "output_type": "execute_result"
    }
   ],
   "source": [
    "#print(road_dict)\n",
    "import cv2 as cv\n",
    "sample=np.array(list(road_zip.values()))\n",
    "print(sample.shape)\n",
    "image=85*sample[:,:,0]\n",
    "\n",
    "cv.imwrite(\"filename.png\", image)"
   ]
  },
  {
   "cell_type": "code",
   "execution_count": 41,
   "id": "c5bd5767",
   "metadata": {},
   "outputs": [],
   "source": [
    "#从道路方向信息中解析出道路的起讫点\n",
    "def decodeDirection(direction):\n",
    "    begin,end='',''\n",
    "    if direction[0]=='从':\n",
    "        strlist=direction.split('到')\n",
    "        begin=strlist[0][1:]\n",
    "        end=strlist[1]\n",
    "    elif direction[-2:]=='附近':\n",
    "        begin=direction[:-2]\n",
    "        end=direction[:-2]\n",
    "    return begin,end\n",
    "def findRelatedEdges(name,s,d):\n",
    "    sv_list,dv_list=[],[]\n",
    "    for vertex in way_vertex_dict[name]:\n",
    "        in_list=[edge[0] for edge in orthogonal_list[vertex][0]]\n",
    "        out_list=[edge[0] for edge in orthogonal_list[vertex][1]]\n",
    "        if s in in_list or s in out_list:\n",
    "            sv_list.append(vertex)\n",
    "        if d in in_list or d in out_list:\n",
    "            dv_list.append(vertex)\n",
    "\n",
    "    related_edges=[]\n",
    "    #能找到起讫点\n",
    "    if len(sv_list)>0 and len(dv_list)>0:\n",
    "        route=[]\n",
    "        for s in sv_list:\n",
    "            history_v=[s]\n",
    "            answer_v=[]\n",
    "            next_seq=[[s]]\n",
    "            while len(next_seq)>0:\n",
    "                seq=next_seq.pop()\n",
    "                v=seq[-1]\n",
    "                edge=orthogonal_list[v][0]+orthogonal_list[v][1]\n",
    "                for e in edge:\n",
    "                    if e[0]==name and e[1] not in history_v:\n",
    "                        history_v.append(e[1])\n",
    "                        if e[1] in dv_list:\n",
    "                            answer_v.append(seq+[e[1]])\n",
    "                        else:\n",
    "                            next_seq.append(seq+[e[1]])\n",
    "            route.extend(answer_v)\n",
    "        for rt in route:\n",
    "            for i in range(1,len(rt)):\n",
    "                a,b=rt[i-1],rt[i]\n",
    "                is_find=False\n",
    "                v,no='',0\n",
    "                for i,e in enumerate(orthogonal_list[a][1]):\n",
    "                    if e[0]==name and e[1]==b:\n",
    "                        is_find=True\n",
    "                        v=a\n",
    "                        no=i\n",
    "                        break\n",
    "                if not is_find:\n",
    "                    for i,e in enumerate(orthogonal_list[b][1]):\n",
    "                        if e[0]==name and e[1]==a:\n",
    "                            is_find=True\n",
    "                            v=b\n",
    "                            no=i\n",
    "                            break\n",
    "                if not is_find:\n",
    "                    print('err')\n",
    "                elif (v,no) not in related_edges:\n",
    "                    related_edges.append((v,no))\n",
    "    #找不到起讫点，则将所有路段纳入相关边\n",
    "    else:\n",
    "#         for p in pointers[name]:\n",
    "#             if p[0]==begin or p[0]==end or p[1]==begin or p[1]==end:\n",
    "#                 related_edges.append((p[2],p[3]))\n",
    "        for v in way_vertex_dict[name]:\n",
    "            for no,e in enumerate(orthogonal_list[v][1]):\n",
    "                if e[0]==name:\n",
    "                    related_edges.append((v,no))\n",
    "    return related_edges"
   ]
  },
  {
   "cell_type": "code",
   "execution_count": 42,
   "id": "4ef7bcd1",
   "metadata": {
    "scrolled": true
   },
   "outputs": [],
   "source": [
    "way_vertex_list=[]\n",
    "for way in way_list:\n",
    "    vertex_list=[]\n",
    "    for node in way[1]:\n",
    "        if node in orthogonal_list:\n",
    "            vertex_list.append(node)\n",
    "    if len(vertex_list)>0:\n",
    "        way_vertex_list.append((way[0],vertex_list))\n",
    "way_vertex_dict={}\n",
    "for way in way_vertex_list:\n",
    "    if way[0] not in way_vertex_dict:\n",
    "        way_vertex_dict[way[0]]=way[1]\n",
    "    else:\n",
    "        way_vertex_dict[way[0]].extend(way[1])\n",
    "for way in way_vertex_dict:\n",
    "    way_vertex_dict[way]=list(set(way_vertex_dict[way]))\n",
    "\n",
    "spatial_maps={}\n",
    "for road,value in road_zip.items():\n",
    "    if road[0] in way_vertex_dict and road[0] in pointers:\n",
    "        begin,end=decodeDirection(road[1])\n",
    "        related_edges=findRelatedEdges(road[0],begin,end)\n",
    "        spatial_maps[road]={'edges':related_edges,'data':value}"
   ]
  },
  {
   "cell_type": "code",
   "execution_count": 43,
   "id": "288db011",
   "metadata": {
    "scrolled": true
   },
   "outputs": [],
   "source": [
    "# spatial_maps={}\n",
    "# for road,value in road_zip.items():\n",
    "#     begin,end=decodeDirection(road[1])\n",
    "#     address=[]\n",
    "#    if road[0] in pointers:\n",
    "#         for p in pointers[road[0]]:\n",
    "#             if p[0]==begin or p[0]==end or p[1]==begin or p[1]==end:\n",
    "#                 address.append([p[2],p[3]])\n",
    "#         spatial_maps[road]={'pointer':address,'data':value}"
   ]
  },
  {
   "cell_type": "code",
   "execution_count": null,
   "id": "314eadb4",
   "metadata": {},
   "outputs": [],
   "source": [
    "import matplotlib.pyplot as plt\n",
    "fig,ax = plt.subplots(figsize=(8,5),dpi=200)\n",
    "ref=node_dict_amap\n",
    "for key,value in orthogonal_list.items():\n",
    "    for e in value[1]:\n",
    "        ax.plot([float(ref[key][0]),float(ref[e[1]][0])],[float(ref[key][1]),float(ref[e[1]][1])],color='r',linewidth=.1)\n",
    "for road,value in spatial_maps.items():\n",
    "    for edge in value['edges']:\n",
    "        a=edge[0]\n",
    "        b=orthogonal_list[a][1][edge[1]][1]\n",
    "        ax.plot([float(ref[a][0]),float(ref[b][0])],[float(ref[a][1]),float(ref[b][1])],color='g',linewidth=1)\n",
    "\n",
    "ax.tick_params(direction='out',labelsize=12,length=6.5,width=1,top=False,right=False)\n",
    "ax.spines['right'].set_visible(False)\n",
    "ax.spines['top'].set_visible(False)\n",
    "ax.set_ylabel('Latitude',fontsize=13)\n",
    "ax.set_xlabel('Longitude',fontsize=13)\n",
    "text_font = {'size':'17','weight':'bold','color':'black'}\n",
    "ax.text(.03,.93,'(Topology Graph)',transform = ax.transAxes,fontdict=text_font,zorder=4)\n",
    "ax.text(.87,-.08,'\\nVisualization by Jupyter',transform = ax.transAxes, ha='center', va='center',fontsize = 5,color='black',fontweight='bold')\n",
    "fig.show()"
   ]
  },
  {
   "cell_type": "code",
   "execution_count": null,
   "id": "9e759106",
   "metadata": {},
   "outputs": [],
   "source": []
  }
 ],
 "metadata": {
  "kernelspec": {
   "display_name": "Python 3",
   "language": "python",
   "name": "python3"
  },
  "language_info": {
   "codemirror_mode": {
    "name": "ipython",
    "version": 3
   },
   "file_extension": ".py",
   "mimetype": "text/x-python",
   "name": "python",
   "nbconvert_exporter": "python",
   "pygments_lexer": "ipython3",
   "version": "3.6.8"
  }
 },
 "nbformat": 4,
 "nbformat_minor": 5
}
