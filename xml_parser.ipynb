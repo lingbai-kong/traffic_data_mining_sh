{
 "cells": [
  {
   "cell_type": "markdown",
   "id": "10330058",
   "metadata": {},
   "source": [
    "# 解析xml地图文件"
   ]
  },
  {
   "cell_type": "code",
   "execution_count": 12,
   "id": "a5c3a198",
   "metadata": {},
   "outputs": [],
   "source": [
    "import xml.dom.minidom\n",
    "\n",
    "domobj = xml.dom.minidom.parse('map.xml')\n",
    "elementobj=domobj.documentElement\n",
    "\n",
    "nodeobj=elementobj.getElementsByTagName('node')\n",
    "node_dict={}\n",
    "for i in range(len(nodeobj)):\n",
    "    node_dict[nodeobj[i].getAttribute('id')]=(nodeobj[i].getAttribute('lon'),nodeobj[i].getAttribute('lat'))\n",
    "    \n",
    "def getValueByKey(obj,k):\n",
    "    for tag in obj:\n",
    "        if tag.getAttribute('k')==k:\n",
    "            return tag.getAttribute('v')\n",
    "    return ''\n",
    "\n",
    "wayobj=elementobj.getElementsByTagName('way')\n",
    "way_list=[]\n",
    "'''\n",
    "way_types:['', 'tertiary', 'residential', 'primary', 'primary_link', 'trunk_link', 'trunk', 'tertiary_link', 'secondary', 'service', 'motorway', 'unclassified', 'cycleway', 'footway', 'motorway_link', 'pedestrian', 'secondary_link', 'track', 'steps', 'path', 'construction', 'bus_guideway', 'living_street', 'platform', 'road', 'bridleway', 'proposed', 'bus_stop', 'planned', 'corridor']\n",
    "'''\n",
    "for i in range(len(wayobj)):\n",
    "    tagobj=wayobj[i].getElementsByTagName('tag')\n",
    "    way_type=getValueByKey(tagobj,'highway')\n",
    "    if way_type in ['primary','primary_link','trunk','trunk_link','secondary','secondary_link','tertiary','tertiary_link','motorway','motorway_link','unclassified','residential']:\n",
    "        ndobj=wayobj[i].getElementsByTagName('nd')\n",
    "        ndids=[nd.getAttribute('ref') for nd in ndobj]\n",
    "        name=getValueByKey(tagobj,'name')\n",
    "        if name!='':\n",
    "            way_list.append((name,ndids))"
   ]
  },
  {
   "cell_type": "markdown",
   "id": "572a7405",
   "metadata": {},
   "source": [
    "# 转换open street gps坐标到高德加密坐标"
   ]
  },
  {
   "cell_type": "code",
   "execution_count": 13,
   "id": "1bffebec",
   "metadata": {},
   "outputs": [
    {
     "name": "stderr",
     "output_type": "stream",
     "text": [
      "Progress:   0% |              | Elapsed Time: 0:00:06 ETA:  0:13:15 844.46  B/s\r"
     ]
    },
    {
     "ename": "KeyboardInterrupt",
     "evalue": "",
     "output_type": "error",
     "traceback": [
      "\u001b[0;31m---------------------------------------------------------------------------\u001b[0m",
      "\u001b[0;31mKeyboardInterrupt\u001b[0m                         Traceback (most recent call last)",
      "\u001b[0;32m<ipython-input-13-267d4e93c98b>\u001b[0m in \u001b[0;36m<module>\u001b[0;34m\u001b[0m\n\u001b[1;32m     36\u001b[0m \u001b[0mnode_dict_amap\u001b[0m\u001b[0;34m=\u001b[0m\u001b[0;34m{\u001b[0m\u001b[0;34m}\u001b[0m\u001b[0;34m\u001b[0m\u001b[0;34m\u001b[0m\u001b[0m\n\u001b[1;32m     37\u001b[0m \u001b[0;32mfor\u001b[0m \u001b[0mi\u001b[0m \u001b[0;32min\u001b[0m \u001b[0mrange\u001b[0m\u001b[0;34m(\u001b[0m\u001b[0;36m0\u001b[0m\u001b[0;34m,\u001b[0m\u001b[0mlen\u001b[0m\u001b[0;34m(\u001b[0m\u001b[0mnode_dict\u001b[0m\u001b[0;34m)\u001b[0m\u001b[0;34m,\u001b[0m\u001b[0;36m40\u001b[0m\u001b[0;34m)\u001b[0m\u001b[0;34m:\u001b[0m\u001b[0;34m\u001b[0m\u001b[0;34m\u001b[0m\u001b[0m\n\u001b[0;32m---> 38\u001b[0;31m     \u001b[0miterate_nodes\u001b[0m\u001b[0;34m=\u001b[0m\u001b[0mlist\u001b[0m\u001b[0;34m(\u001b[0m\u001b[0mnode_dict\u001b[0m\u001b[0;34m.\u001b[0m\u001b[0mkeys\u001b[0m\u001b[0;34m(\u001b[0m\u001b[0;34m)\u001b[0m\u001b[0;34m)\u001b[0m\u001b[0;34m[\u001b[0m\u001b[0mi\u001b[0m\u001b[0;34m:\u001b[0m\u001b[0mi\u001b[0m\u001b[0;34m+\u001b[0m\u001b[0;36m40\u001b[0m\u001b[0;34m]\u001b[0m\u001b[0;34m\u001b[0m\u001b[0;34m\u001b[0m\u001b[0m\n\u001b[0m\u001b[1;32m     39\u001b[0m     \u001b[0mthread\u001b[0m\u001b[0;34m=\u001b[0m\u001b[0mthreading\u001b[0m\u001b[0;34m.\u001b[0m\u001b[0mThread\u001b[0m\u001b[0;34m(\u001b[0m\u001b[0mtarget\u001b[0m\u001b[0;34m=\u001b[0m\u001b[0mconvert_task\u001b[0m\u001b[0;34m,\u001b[0m \u001b[0margs\u001b[0m\u001b[0;34m=\u001b[0m\u001b[0;34m(\u001b[0m\u001b[0miterate_nodes\u001b[0m\u001b[0;34m,\u001b[0m\u001b[0;34m)\u001b[0m\u001b[0;34m)\u001b[0m\u001b[0;34m\u001b[0m\u001b[0;34m\u001b[0m\u001b[0m\n\u001b[1;32m     40\u001b[0m     \u001b[0mthread_list\u001b[0m\u001b[0;34m.\u001b[0m\u001b[0mappend\u001b[0m\u001b[0;34m(\u001b[0m\u001b[0mthread\u001b[0m\u001b[0;34m)\u001b[0m\u001b[0;34m\u001b[0m\u001b[0;34m\u001b[0m\u001b[0m\n",
      "\u001b[0;31mKeyboardInterrupt\u001b[0m: "
     ]
    }
   ],
   "source": [
    "import requests\n",
    "import json\n",
    "import threading\n",
    "import queue\n",
    "from fake_useragent import UserAgent\n",
    "from progressbar import ProgressBar,Percentage,Bar,Timer,ETA,FileTransferSpeed\n",
    "widgets = [\n",
    "    'Progress: ',\n",
    "    Percentage(), ' ',\n",
    "    Bar('#'), ' ',\n",
    "    Timer(), ' ',\n",
    "    ETA(), ' ',\n",
    "    FileTransferSpeed()\n",
    "]\n",
    "bar = ProgressBar(widgets=widgets, maxval=len(node_dict)).start()\n",
    "q=queue.Queue()\n",
    "thread_list=[]\n",
    "def convert_task(ndids):\n",
    "    gps_string=''\n",
    "    for ndid in ndids:\n",
    "        gps_string+=node_dict[ndid][0]+','+node_dict[ndid][1]+'|'\n",
    "    server_host='https://restapi.amap.com/v3/assistant/coordinate/convert'\n",
    "    parameters={\n",
    "        'key':'053d8830d4ed8bfc7fac9a3a5d8b10cf',\n",
    "        'locations':gps_string,\n",
    "        'coordsys':'gps'\n",
    "    }\n",
    "    response=requests.get(url=server_host,\n",
    "                 headers={'User-Agent':UserAgent(path='fakeuseragent.json').random},\n",
    "                 params=parameters)\n",
    "    response.encoding=response.apparent_encoding\n",
    "    res=json.loads(response.text)\n",
    "    coords=res['locations'].split(';')\n",
    "    for i,ndid in enumerate(ndids):\n",
    "        q.put((ndid,tuple(coords[i].split(','))))\n",
    "node_dict_amap={}\n",
    "for i in range(0,len(node_dict),40):\n",
    "    iterate_nodes=list(node_dict.keys())[i:i+40]\n",
    "    thread=threading.Thread(target=convert_task, args=(iterate_nodes,))\n",
    "    thread_list.append(thread)\n",
    "    thread.start()\n",
    "    bar.update(i+1)\n",
    "bar.finish()\n",
    "for thread in thread_list:\n",
    "    thread.join()\n",
    "thread_list.clear()\n",
    "while not q.empty():\n",
    "    item=q.get()\n",
    "    node_dict_amap[item[0]]=item[1]"
   ]
  },
  {
   "cell_type": "markdown",
   "id": "4a9b4d34",
   "metadata": {},
   "source": [
    "# 保存数据"
   ]
  },
  {
   "cell_type": "code",
   "execution_count": 14,
   "id": "486dbe31",
   "metadata": {},
   "outputs": [],
   "source": [
    "import pickle\n",
    "with open('map_nodes.pkl','wb') as f:\n",
    "    pickle.dump(node_dict, f)\n",
    "with open('map_nodes_amap.pkl','wb') as f:\n",
    "    pickle.dump(node_dict_amap, f)\n",
    "with open('map_ways.pkl','wb') as f:\n",
    "    pickle.dump(way_list, f)"
   ]
  },
  {
   "cell_type": "code",
   "execution_count": null,
   "id": "a0349658",
   "metadata": {},
   "outputs": [],
   "source": []
  }
 ],
 "metadata": {
  "kernelspec": {
   "display_name": "Python 3",
   "language": "python",
   "name": "python3"
  },
  "language_info": {
   "codemirror_mode": {
    "name": "ipython",
    "version": 3
   },
   "file_extension": ".py",
   "mimetype": "text/x-python",
   "name": "python",
   "nbconvert_exporter": "python",
   "pygments_lexer": "ipython3",
   "version": "3.6.8"
  }
 },
 "nbformat": 4,
 "nbformat_minor": 5
}
