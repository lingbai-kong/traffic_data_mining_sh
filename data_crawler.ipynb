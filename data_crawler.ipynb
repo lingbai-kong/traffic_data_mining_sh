{
 "cells": [
  {
   "cell_type": "markdown",
   "id": "b1dbb0f1",
   "metadata": {},
   "source": [
    "通过高德地图开放平台爬取延安东路立交桥区域路段的交通状态"
   ]
  },
  {
   "cell_type": "code",
   "execution_count": 2,
   "id": "36d5db89",
   "metadata": {},
   "outputs": [],
   "source": [
    "import requests\n",
    "import json\n",
    "import csv\n",
    "import datetime\n",
    "import schedule\n",
    "import math\n",
    "import threading\n",
    "import queue\n",
    "from fake_useragent import UserAgent"
   ]
  },
  {
   "cell_type": "code",
   "execution_count": 58,
   "id": "72f8c542",
   "metadata": {},
   "outputs": [],
   "source": [
    "q = queue.Queue()\n",
    "thread_list = []"
   ]
  },
  {
   "cell_type": "code",
   "execution_count": 59,
   "id": "cd2fc855",
   "metadata": {},
   "outputs": [],
   "source": [
    "def get_data(coord1,coord2):\n",
    "    server_host='https://restapi.amap.com/v3/traffic/status/rectangle'\n",
    "    parameters={\n",
    "        'key':'111d1e3797ffa20c7d44a42ab0bed3fd',\n",
    "        'level':5,\n",
    "        'extensions':'all',\n",
    "        'rectangle':f'{coord1[0]},{coord1[1]};{coord2[0]},{coord2[1]}'\n",
    "    }\n",
    "    response=requests.get(url=server_host,\n",
    "                         headers={'User-Agent':UserAgent(path='fakeuseragent.json').random},\n",
    "                         params=parameters)\n",
    "    response.encoding=response.apparent_encoding\n",
    "    return response.text"
   ]
  },
  {
   "cell_type": "markdown",
   "id": "137df86b",
   "metadata": {},
   "source": [
    "csv文件各列属性依次为：name, status, direction, angle, speed, lcodes, polyline"
   ]
  },
  {
   "cell_type": "code",
   "execution_count": 60,
   "id": "01fe0d44",
   "metadata": {
    "scrolled": true
   },
   "outputs": [],
   "source": [
    "def save_as_csv(time,data):\n",
    "    with open(f'data/ts_{time}.csv','w') as f:\n",
    "        csv_writer = csv.writer(f)\n",
    "        for item in data:\n",
    "            if 'speed' in item:\n",
    "                csv_writer.writerow([item['name'],\n",
    "                                     item['status'],\n",
    "                                     item['direction'],\n",
    "                                     item['angle'],\n",
    "                                     item['speed'],\n",
    "                                     item['lcodes']\n",
    "                                    ])\n",
    "        f.close()"
   ]
  },
  {
   "cell_type": "code",
   "execution_count": 61,
   "id": "2b4a83b4",
   "metadata": {
    "scrolled": true
   },
   "outputs": [],
   "source": [
    "def download_task(coord1,coord2):\n",
    "    #\n",
    "    res=json.loads(get_data(coord1,coord2))\n",
    "    data=[road for road in res['trafficinfo']['roads']]\n",
    "    q.put(data)"
   ]
  },
  {
   "cell_type": "markdown",
   "id": "48ea0295",
   "metadata": {},
   "source": [
    "设置schedule定时任务"
   ]
  },
  {
   "cell_type": "code",
   "execution_count": 62,
   "id": "c154d0cc",
   "metadata": {
    "scrolled": false
   },
   "outputs": [],
   "source": [
    "def run():\n",
    "    time=(datetime.datetime.now()+datetime.timedelta(hours=8)).strftime('%Y-%m-%d %H:%M:%S')\n",
    "    size=6#(size*5)^2 km^2\n",
    "    coord0=(121.475698,31.230428)\n",
    "    coord1=(coord0[0]-5*float(size/2)/(111.0*math.cos(coord0[1])),coord0[1]-5*float(size/2)/111.0)\n",
    "    coord2=(coord0[0]+5*float(size/2)/(111.0*math.cos(coord0[1])),coord0[1]+5*float(size/2)/111.0)\n",
    "    for i,lng in enumerate([coord1[0]+i*(coord2[0]-coord1[0])/size for i in range(size)]):\n",
    "        for j,lat in enumerate([coord1[1]+j*(coord2[1]-coord1[1])/size for j in range(size)]):\n",
    "            args=((lng,lat),(lng+(coord2[0]-coord1[0])/size,lat+(coord2[1]-coord1[1])/size))\n",
    "            thread = threading.Thread(target=download_task, args=args)\n",
    "            thread_list.append(thread)\n",
    "            thread.start()\n",
    "    for thread in thread_list:\n",
    "        thread.join()\n",
    "    thread_list.clear()\n",
    "    data=[]\n",
    "    while not q.empty():\n",
    "        data.extend(q.get())\n",
    "    save_as_csv(time,data)"
   ]
  },
  {
   "cell_type": "code",
   "execution_count": 8,
   "id": "3439a8ba",
   "metadata": {
    "scrolled": true
   },
   "outputs": [
    {
     "name": "stdout",
     "output_type": "stream",
     "text": [
      "2021-10-01 09:31:23.548238\n",
      "1\n"
     ]
    }
   ],
   "source": [
    "schedule.every(5).minutes.do(run)\n",
    "while True:\n",
    "    start_time=datetime.datetime.strptime(str((datetime.datetime.now()+datetime.timedelta(hours=8)).date())+' 5:00:00','%Y-%m-%d %H:%M:%S')\n",
    "    end_time=datetime.datetime.strptime(str((datetime.datetime.now()+datetime.timedelta(hours=8)).date())+' 23:59:59','%Y-%m-%d %H:%M:%S')\n",
    "    now_time = datetime.datetime.now()+datetime.timedelta(hours=8)\n",
    "    print(now_time)\n",
    "    if start_time < now_time < end_time:\n",
    "        schedule.run_pending()"
   ]
  }
 ],
 "metadata": {
  "kernelspec": {
   "display_name": "Python 3",
   "language": "python",
   "name": "python3"
  },
  "language_info": {
   "codemirror_mode": {
    "name": "ipython",
    "version": 3
   },
   "file_extension": ".py",
   "mimetype": "text/x-python",
   "name": "python",
   "nbconvert_exporter": "python",
   "pygments_lexer": "ipython3",
   "version": "3.6.8"
  }
 },
 "nbformat": 4,
 "nbformat_minor": 5
}
