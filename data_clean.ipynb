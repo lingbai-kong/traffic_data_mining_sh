{
 "cells": [
  {
   "cell_type": "markdown",
   "id": "db89c196",
   "metadata": {},
   "source": [
    "# 数据读取\n",
    "读取csv数据，初次得到的数据结构如下：\n",
    "```\n",
    "data=\n",
    "[\n",
    "    {\n",
    "        'date',\n",
    "        'time',\n",
    "        'data':[\n",
    "            第road_id行，存放road_id的数据：[status,speed]\n",
    "        ]\n",
    "        不同时间的不同data不等长\n",
    "    }\n",
    "]\n",
    "```"
   ]
  },
  {
   "cell_type": "code",
   "execution_count": 4,
   "id": "7c021a6a",
   "metadata": {
    "scrolled": true
   },
   "outputs": [],
   "source": [
    "import csv\n",
    "import os\n",
    "file_path='data'\n",
    "file_list=sorted(os.listdir(file_path))\n",
    "date_time={}\n",
    "for fname in file_list:\n",
    "    if fname[0]=='.':\n",
    "        continue\n",
    "        \n",
    "    date=fname[8:13]\n",
    "    time=fname[14:22]\n",
    "    \n",
    "    if date>='10-02' and date<='10-31':\n",
    "        if date not in date_time:\n",
    "            date_time[date]=[time]\n",
    "        else:\n",
    "            date_time[date].append(time)\n",
    "#把每一天的时间段数据归一化，抛弃尾端数据\n",
    "min_time_num=216\n",
    "for date,times in date_time.items():\n",
    "    if len(times)<min_time_num:\n",
    "        min_time_num=len(times)\n",
    "for date in date_time:\n",
    "    if len(date_time[date])>min_time_num:\n",
    "        date_time[date]=date_time[date][0:min_time_num]\n",
    "\n",
    "road_dict={}\n",
    "data=[]\n",
    "\n",
    "for date,times in date_time.items():\n",
    "    for time in times:\n",
    "        fname='ts_2021-'+date+' '+time+'.csv'\n",
    "        date_data=[[0,0] for i in range(len(road_dict))]\n",
    "        with open(file_path+'/'+fname,'r') as f:\n",
    "            csv_reader = csv.reader(f)\n",
    "            for row in csv_reader:\n",
    "                if (row[0],row[2]) in road_dict:\n",
    "                    date_data[road_dict[(row[0],row[2])]['id']][0]=int(row[1])\n",
    "                    date_data[road_dict[(row[0],row[2])]['id']][1]=int(row[4])\n",
    "                else:\n",
    "                    road_dict[(row[0],row[2])]={'id':len(road_dict)}\n",
    "                    date_data.append([int(row[1]),int(row[4])])\n",
    "            f.close()\n",
    "        #time=(int(fname[14:16])-5)*60+int(fname[17:19])\n",
    "        data.append({'date':date,'time':time,'data':date_data})"
   ]
  },
  {
   "cell_type": "markdown",
   "id": "15e97a53",
   "metadata": {},
   "source": [
    "# 数据清洗\n",
    "二次处理读到的csv数据，使其转化为光栅(Raster)数据\n",
    "```\n",
    "dataset=[\n",
    "    for each day\n",
    "    [\n",
    "        for each roads\n",
    "        [\n",
    "            for each time\n",
    "            [\n",
    "                [status,speed]\n",
    "            ]\n",
    "        ]\n",
    "    ]\n",
    "]\n",
    "```\n",
    "记每天为一个样本组，天数=样本数=N，每个样本记录了E个道路信息，每个道路包含T个时间片的监测数据，每个数据有C个特征"
   ]
  },
  {
   "cell_type": "code",
   "execution_count": 5,
   "id": "5c49eb04",
   "metadata": {},
   "outputs": [],
   "source": [
    "import numpy as np\n",
    "from collections import Counter\n",
    "dataset=[]\n",
    "raster=[[] for i in range(len(road_dict))]\n",
    "for index,item in enumerate(data):\n",
    "    for road in road_dict:\n",
    "        road_id=road_dict[(road)]['id']\n",
    "        if road_id<len(item['data']):\n",
    "            raster[road_id].append(item['data'][road_id])\n",
    "        else:\n",
    "            raster[road_id].append([0,0])\n",
    "\n",
    "    if index==len(data)-1 or item['date']!=data[index+1]['date']:\n",
    "        dataset.append(raster)\n",
    "        raster=[[] for i in range(len(road_dict))]\n",
    "dataset=np.array(dataset)"
   ]
  },
  {
   "cell_type": "markdown",
   "id": "d67b4003",
   "metadata": {},
   "source": [
    "将车速归一化"
   ]
  },
  {
   "cell_type": "code",
   "execution_count": 6,
   "id": "090d754d",
   "metadata": {},
   "outputs": [],
   "source": [
    "regular=dataset.transpose(3,0,1,2)\n",
    "regular=regular.astype('float')\n",
    "for d in range(len(regular[1])):\n",
    "    for r in range(len(regular[1][d])):\n",
    "        if regular[1][d][r].max()>0:\n",
    "            # 因为全天畅通路段的最低速度=0而全天拥堵路段的最高速度=1这显然不合理\n",
    "            # regular[1][d][r]=(regular[1][d][r]-regular[1][d][r].min())/regular[1][d][r].ptp()\n",
    "            \n",
    "            # 这里有一个假设，路段不会全天拥堵，全天最高速度是路段的最高限速\n",
    "            regular[1][d][r]=regular[1][d][r]/regular[1][d][r].max()\n",
    "        else:\n",
    "            regular[1][d][r]=0.0\n",
    "dataset=regular.transpose(1,2,3,0) "
   ]
  },
  {
   "cell_type": "markdown",
   "id": "d94bd9de",
   "metadata": {},
   "source": [
    "将每一天的数据拼接\n",
    "```\n",
    "dataset=[\n",
    "    for each roads\n",
    "    [\n",
    "        for all time\n",
    "        [\n",
    "            [status,speed]\n",
    "        ]\n",
    "    ]\n",
    "]\n",
    "```\n",
    "样本记录了E个道路信息，每个道路包含N*T个时间片的监测数据，每个数据有C个特征"
   ]
  },
  {
   "cell_type": "code",
   "execution_count": 7,
   "id": "5c6d984f",
   "metadata": {},
   "outputs": [],
   "source": [
    "dataset=np.concatenate(dataset,axis=1)"
   ]
  },
  {
   "cell_type": "markdown",
   "id": "ae76b3df",
   "metadata": {},
   "source": [
    "将数据缺失率在5%以上的路段剔除<br>\n",
    "road_zip是之后代码块使用的数据源"
   ]
  },
  {
   "cell_type": "code",
   "execution_count": 8,
   "id": "700a8716",
   "metadata": {},
   "outputs": [],
   "source": [
    "road_zip=dict(zip(road_dict.keys(),dataset))\n",
    "\n",
    "delete_roads=[]\n",
    "for road,data in road_zip.items():\n",
    "    null_cnt=0\n",
    "    zero_cnt=Counter(data[:,0])[0]\n",
    "    if zero_cnt>len(data)*0.05:\n",
    "        delete_roads.append(road)\n",
    "for road in delete_roads:\n",
    "    road_zip.pop(road)\n",
    "\n",
    "road_zip_keys=list(road_zip.keys())\n",
    "road_zip_values=np.array(list(road_zip.values())).reshape(len(road_zip),-1,min_time_num,2)\n",
    "road_zip=dict(zip(road_zip_keys,road_zip_values))"
   ]
  },
  {
   "cell_type": "markdown",
   "id": "36c42d44",
   "metadata": {},
   "source": [
    "保存road_zip"
   ]
  },
  {
   "cell_type": "code",
   "execution_count": 9,
   "id": "8eec87a5",
   "metadata": {},
   "outputs": [],
   "source": [
    "import pickle\n",
    "with open('road_zip.pkl','wb') as f:\n",
    "    pickle.dump(road_zip, f)"
   ]
  },
  {
   "cell_type": "code",
   "execution_count": null,
   "id": "89e0525b",
   "metadata": {},
   "outputs": [],
   "source": []
  }
 ],
 "metadata": {
  "kernelspec": {
   "display_name": "Python 3",
   "language": "python",
   "name": "python3"
  },
  "language_info": {
   "codemirror_mode": {
    "name": "ipython",
    "version": 3
   },
   "file_extension": ".py",
   "mimetype": "text/x-python",
   "name": "python",
   "nbconvert_exporter": "python",
   "pygments_lexer": "ipython3",
   "version": "3.6.8"
  }
 },
 "nbformat": 4,
 "nbformat_minor": 5
}
